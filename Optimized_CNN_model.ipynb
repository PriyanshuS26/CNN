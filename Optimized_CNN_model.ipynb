{
 "cells": [
  {
   "cell_type": "markdown",
   "id": "421bdace",
   "metadata": {},
   "source": [
    "### Creating CNN Model and Optimize it using Keras Tuner"
   ]
  },
  {
   "cell_type": "code",
   "execution_count": 1,
   "id": "60445e2d",
   "metadata": {},
   "outputs": [
    {
     "name": "stdout",
     "output_type": "stream",
     "text": [
      "Requirement already satisfied: keras-tuner in c:\\users\\welcome\\anaconda3\\envs\\deep_learning\\lib\\site-packages (1.1.3)\n",
      "Requirement already satisfied: kt-legacy in c:\\users\\welcome\\anaconda3\\envs\\deep_learning\\lib\\site-packages (from keras-tuner) (1.0.4)\n",
      "Requirement already satisfied: tensorboard in c:\\users\\welcome\\anaconda3\\envs\\deep_learning\\lib\\site-packages (from keras-tuner) (2.9.0)\n",
      "Requirement already satisfied: ipython in c:\\users\\welcome\\anaconda3\\envs\\deep_learning\\lib\\site-packages (from keras-tuner) (7.31.1)\n",
      "Requirement already satisfied: packaging in c:\\users\\welcome\\anaconda3\\envs\\deep_learning\\lib\\site-packages (from keras-tuner) (21.3)\n",
      "Requirement already satisfied: numpy in c:\\users\\welcome\\anaconda3\\envs\\deep_learning\\lib\\site-packages (from keras-tuner) (1.23.3)\n",
      "Requirement already satisfied: requests in c:\\users\\welcome\\anaconda3\\envs\\deep_learning\\lib\\site-packages (from keras-tuner) (2.28.1)\n",
      "Requirement already satisfied: setuptools>=18.5 in c:\\users\\welcome\\anaconda3\\envs\\deep_learning\\lib\\site-packages (from ipython->keras-tuner) (63.4.1)\n",
      "Requirement already satisfied: backcall in c:\\users\\welcome\\anaconda3\\envs\\deep_learning\\lib\\site-packages (from ipython->keras-tuner) (0.2.0)\n",
      "Requirement already satisfied: matplotlib-inline in c:\\users\\welcome\\anaconda3\\envs\\deep_learning\\lib\\site-packages (from ipython->keras-tuner) (0.1.6)\n",
      "Requirement already satisfied: colorama in c:\\users\\welcome\\anaconda3\\envs\\deep_learning\\lib\\site-packages (from ipython->keras-tuner) (0.4.5)\n",
      "Requirement already satisfied: prompt-toolkit!=3.0.0,!=3.0.1,<3.1.0,>=2.0.0 in c:\\users\\welcome\\anaconda3\\envs\\deep_learning\\lib\\site-packages (from ipython->keras-tuner) (3.0.20)\n",
      "Requirement already satisfied: jedi>=0.16 in c:\\users\\welcome\\anaconda3\\envs\\deep_learning\\lib\\site-packages (from ipython->keras-tuner) (0.18.1)\n",
      "Requirement already satisfied: decorator in c:\\users\\welcome\\anaconda3\\envs\\deep_learning\\lib\\site-packages (from ipython->keras-tuner) (5.1.1)\n",
      "Requirement already satisfied: traitlets>=4.2 in c:\\users\\welcome\\anaconda3\\envs\\deep_learning\\lib\\site-packages (from ipython->keras-tuner) (5.1.1)\n",
      "Requirement already satisfied: pygments in c:\\users\\welcome\\anaconda3\\envs\\deep_learning\\lib\\site-packages (from ipython->keras-tuner) (2.11.2)\n",
      "Requirement already satisfied: pickleshare in c:\\users\\welcome\\anaconda3\\envs\\deep_learning\\lib\\site-packages (from ipython->keras-tuner) (0.7.5)\n",
      "Requirement already satisfied: pyparsing!=3.0.5,>=2.0.2 in c:\\users\\welcome\\anaconda3\\envs\\deep_learning\\lib\\site-packages (from packaging->keras-tuner) (3.0.9)\n",
      "Requirement already satisfied: charset-normalizer<3,>=2 in c:\\users\\welcome\\anaconda3\\envs\\deep_learning\\lib\\site-packages (from requests->keras-tuner) (2.0.4)\n",
      "Requirement already satisfied: urllib3<1.27,>=1.21.1 in c:\\users\\welcome\\anaconda3\\envs\\deep_learning\\lib\\site-packages (from requests->keras-tuner) (1.26.11)\n",
      "Requirement already satisfied: certifi>=2017.4.17 in c:\\users\\welcome\\anaconda3\\envs\\deep_learning\\lib\\site-packages (from requests->keras-tuner) (2022.9.24)\n",
      "Requirement already satisfied: idna<4,>=2.5 in c:\\users\\welcome\\anaconda3\\envs\\deep_learning\\lib\\site-packages (from requests->keras-tuner) (3.3)\n",
      "Requirement already satisfied: tensorboard-data-server<0.7.0,>=0.6.0 in c:\\users\\welcome\\anaconda3\\envs\\deep_learning\\lib\\site-packages (from tensorboard->keras-tuner) (0.6.0)\n",
      "Requirement already satisfied: protobuf>=3.9.2 in c:\\users\\welcome\\anaconda3\\envs\\deep_learning\\lib\\site-packages (from tensorboard->keras-tuner) (3.20.1)\n",
      "Requirement already satisfied: werkzeug>=1.0.1 in c:\\users\\welcome\\anaconda3\\envs\\deep_learning\\lib\\site-packages (from tensorboard->keras-tuner) (2.2.2)\n",
      "Requirement already satisfied: absl-py>=0.4 in c:\\users\\welcome\\anaconda3\\envs\\deep_learning\\lib\\site-packages (from tensorboard->keras-tuner) (1.2.0)\n",
      "Requirement already satisfied: google-auth<3,>=1.6.3 in c:\\users\\welcome\\anaconda3\\envs\\deep_learning\\lib\\site-packages (from tensorboard->keras-tuner) (2.12.0)\n",
      "Requirement already satisfied: markdown>=2.6.8 in c:\\users\\welcome\\anaconda3\\envs\\deep_learning\\lib\\site-packages (from tensorboard->keras-tuner) (3.4.1)\n",
      "Requirement already satisfied: tensorboard-plugin-wit>=1.6.0 in c:\\users\\welcome\\anaconda3\\envs\\deep_learning\\lib\\site-packages (from tensorboard->keras-tuner) (1.8.1)\n",
      "Requirement already satisfied: google-auth-oauthlib<0.5,>=0.4.1 in c:\\users\\welcome\\anaconda3\\envs\\deep_learning\\lib\\site-packages (from tensorboard->keras-tuner) (0.4.6)\n",
      "Requirement already satisfied: grpcio>=1.24.3 in c:\\users\\welcome\\anaconda3\\envs\\deep_learning\\lib\\site-packages (from tensorboard->keras-tuner) (1.42.0)\n",
      "Requirement already satisfied: wheel>=0.26 in c:\\users\\welcome\\anaconda3\\envs\\deep_learning\\lib\\site-packages (from tensorboard->keras-tuner) (0.37.1)\n",
      "Requirement already satisfied: cachetools<6.0,>=2.0.0 in c:\\users\\welcome\\anaconda3\\envs\\deep_learning\\lib\\site-packages (from google-auth<3,>=1.6.3->tensorboard->keras-tuner) (5.2.0)\n",
      "Requirement already satisfied: pyasn1-modules>=0.2.1 in c:\\users\\welcome\\anaconda3\\envs\\deep_learning\\lib\\site-packages (from google-auth<3,>=1.6.3->tensorboard->keras-tuner) (0.2.7)\n",
      "Requirement already satisfied: six>=1.9.0 in c:\\users\\welcome\\anaconda3\\envs\\deep_learning\\lib\\site-packages (from google-auth<3,>=1.6.3->tensorboard->keras-tuner) (1.16.0)\n",
      "Requirement already satisfied: rsa<5,>=3.1.4 in c:\\users\\welcome\\anaconda3\\envs\\deep_learning\\lib\\site-packages (from google-auth<3,>=1.6.3->tensorboard->keras-tuner) (4.9)\n",
      "Requirement already satisfied: requests-oauthlib>=0.7.0 in c:\\users\\welcome\\anaconda3\\envs\\deep_learning\\lib\\site-packages (from google-auth-oauthlib<0.5,>=0.4.1->tensorboard->keras-tuner) (1.3.1)\n",
      "Requirement already satisfied: parso<0.9.0,>=0.8.0 in c:\\users\\welcome\\anaconda3\\envs\\deep_learning\\lib\\site-packages (from jedi>=0.16->ipython->keras-tuner) (0.8.3)\n",
      "Requirement already satisfied: wcwidth in c:\\users\\welcome\\anaconda3\\envs\\deep_learning\\lib\\site-packages (from prompt-toolkit!=3.0.0,!=3.0.1,<3.1.0,>=2.0.0->ipython->keras-tuner) (0.2.5)\n",
      "Requirement already satisfied: MarkupSafe>=2.1.1 in c:\\users\\welcome\\anaconda3\\envs\\deep_learning\\lib\\site-packages (from werkzeug>=1.0.1->tensorboard->keras-tuner) (2.1.1)\n",
      "Requirement already satisfied: pyasn1<0.5.0,>=0.4.6 in c:\\users\\welcome\\anaconda3\\envs\\deep_learning\\lib\\site-packages (from pyasn1-modules>=0.2.1->google-auth<3,>=1.6.3->tensorboard->keras-tuner) (0.4.8)\n",
      "Requirement already satisfied: oauthlib>=3.0.0 in c:\\users\\welcome\\anaconda3\\envs\\deep_learning\\lib\\site-packages (from requests-oauthlib>=0.7.0->google-auth-oauthlib<0.5,>=0.4.1->tensorboard->keras-tuner) (3.2.1)\n"
     ]
    }
   ],
   "source": [
    "!pip install keras-tuner"
   ]
  },
  {
   "cell_type": "code",
   "execution_count": 2,
   "id": "d9bf753e",
   "metadata": {},
   "outputs": [
    {
     "name": "stderr",
     "output_type": "stream",
     "text": [
      "C:\\Users\\welcome\\anaconda3\\envs\\deep_learning\\lib\\site-packages\\scipy\\__init__.py:146: UserWarning: A NumPy version >=1.16.5 and <1.23.0 is required for this version of SciPy (detected version 1.23.1\n",
      "  warnings.warn(f\"A NumPy version >={np_minversion} and <{np_maxversion}\"\n"
     ]
    }
   ],
   "source": [
    "import tensorflow as tf\n",
    "from tensorflow import keras\n",
    "import numpy as np"
   ]
  },
  {
   "cell_type": "code",
   "execution_count": 3,
   "id": "1e0c26cf",
   "metadata": {},
   "outputs": [
    {
     "name": "stdout",
     "output_type": "stream",
     "text": [
      "2.9.1\n"
     ]
    }
   ],
   "source": [
    "print(tf.__version__)"
   ]
  },
  {
   "cell_type": "code",
   "execution_count": 4,
   "id": "34eb6ab5",
   "metadata": {},
   "outputs": [],
   "source": [
    "fashion_mnist = keras.datasets.fashion_mnist"
   ]
  },
  {
   "cell_type": "code",
   "execution_count": 7,
   "id": "b90f9ffe",
   "metadata": {},
   "outputs": [],
   "source": [
    "# training and test images\n",
    "(train_images, train_labels),(test_images, test_labels) = fashion_mnist.load_data()"
   ]
  },
  {
   "cell_type": "code",
   "execution_count": 8,
   "id": "c099ac57",
   "metadata": {},
   "outputs": [],
   "source": [
    "# scaling down to 0 to 1 to quickly train our model\n",
    "\n",
    "train_images = train_images/255.0\n",
    "test_images = test_images/255.0"
   ]
  },
  {
   "cell_type": "code",
   "execution_count": 10,
   "id": "6aca7547",
   "metadata": {},
   "outputs": [
    {
     "data": {
      "text/plain": [
       "(28, 28)"
      ]
     },
     "execution_count": 10,
     "metadata": {},
     "output_type": "execute_result"
    }
   ],
   "source": [
    "train_images[0].shape"
   ]
  },
  {
   "cell_type": "code",
   "execution_count": 11,
   "id": "b0c4b885",
   "metadata": {},
   "outputs": [],
   "source": [
    "# resize the pixel\n",
    "\n",
    "train_images = train_images.reshape(len(train_images),28,28,1)\n",
    "test_images = test_images.reshape(len(test_images),28,28,1)"
   ]
  },
  {
   "cell_type": "code",
   "execution_count": 16,
   "id": "4a25ca3e",
   "metadata": {},
   "outputs": [],
   "source": [
    "# creating a udf to build model\n",
    "\n",
    "def build_model(hp):\n",
    "    model = keras.Sequential([\n",
    "    keras.layers.Conv2D(\n",
    "        filters=hp.Int('conv_1_filter', min_value=32, max_value=128, step=16),\n",
    "        kernel_size=hp.Choice('conv_1_kernel', values = [3,5]),\n",
    "        activation='relu',\n",
    "        input_shape=(28,28,1)\n",
    "    ),\n",
    "    keras.layers.Conv2D(\n",
    "        filters=hp.Int('conv_2_filter', min_value=32, max_value=64, step=16),\n",
    "        kernel_size=hp.Choice('conv_2_kernel', values = [3,5]),\n",
    "        activation='relu'\n",
    "    ),\n",
    "    keras.layers.Flatten(),\n",
    "    keras.layers.Dense(\n",
    "        units=hp.Int('dense_1_units', min_value=32, max_value=128, step=16),\n",
    "        activation='relu'\n",
    "    ),\n",
    "    keras.layers.Dense(10, activation='softmax')\n",
    "  ])\n",
    "  \n",
    "    model.compile(optimizer=keras.optimizers.Adam(hp.Choice('learning_rate', values=[1e-2, 1e-3])),\n",
    "              loss='sparse_categorical_crossentropy',\n",
    "              metrics=['accuracy'])\n",
    "    \n",
    "    return model"
   ]
  },
  {
   "cell_type": "code",
   "execution_count": 17,
   "id": "997e258b",
   "metadata": {},
   "outputs": [],
   "source": [
    "from kerastuner import RandomSearch\n",
    "from kerastuner.engine.hyperparameters import HyperParameters"
   ]
  },
  {
   "cell_type": "code",
   "execution_count": 18,
   "id": "1ea04bf5",
   "metadata": {},
   "outputs": [],
   "source": [
    "tuner_search = RandomSearch(build_model, objective='val_accuracy', max_trials=5, directory='output', project_name = 'Mnist_fashion')"
   ]
  },
  {
   "cell_type": "code",
   "execution_count": 19,
   "id": "03b059ed",
   "metadata": {},
   "outputs": [
    {
     "name": "stdout",
     "output_type": "stream",
     "text": [
      "Trial 5 Complete [00h 08m 20s]\n",
      "val_accuracy: 0.9116666913032532\n",
      "\n",
      "Best val_accuracy So Far: 0.9116666913032532\n",
      "Total elapsed time: 00h 26m 01s\n",
      "INFO:tensorflow:Oracle triggered exit\n"
     ]
    }
   ],
   "source": [
    "tuner_search.search(train_images,train_labels, epochs = 3, validation_split = 0.1)"
   ]
  },
  {
   "cell_type": "code",
   "execution_count": 20,
   "id": "28dd00f1",
   "metadata": {},
   "outputs": [],
   "source": [
    "model_bpm = tuner_search.get_best_models(num_models=1)[0]"
   ]
  },
  {
   "cell_type": "code",
   "execution_count": 21,
   "id": "fec2b348",
   "metadata": {},
   "outputs": [
    {
     "name": "stdout",
     "output_type": "stream",
     "text": [
      "Model: \"sequential\"\n",
      "_________________________________________________________________\n",
      " Layer (type)                Output Shape              Param #   \n",
      "=================================================================\n",
      " conv2d (Conv2D)             (None, 26, 26, 112)       1120      \n",
      "                                                                 \n",
      " conv2d_1 (Conv2D)           (None, 22, 22, 48)        134448    \n",
      "                                                                 \n",
      " flatten (Flatten)           (None, 23232)             0         \n",
      "                                                                 \n",
      " dense (Dense)               (None, 96)                2230368   \n",
      "                                                                 \n",
      " dense_1 (Dense)             (None, 10)                970       \n",
      "                                                                 \n",
      "=================================================================\n",
      "Total params: 2,366,906\n",
      "Trainable params: 2,366,906\n",
      "Non-trainable params: 0\n",
      "_________________________________________________________________\n"
     ]
    }
   ],
   "source": [
    "model_bpm.summary()"
   ]
  },
  {
   "cell_type": "code",
   "execution_count": 22,
   "id": "59ceebb7",
   "metadata": {},
   "outputs": [
    {
     "name": "stdout",
     "output_type": "stream",
     "text": [
      "Epoch 4/6\n",
      "1688/1688 [==============================] - 171s 101ms/step - loss: 0.1345 - accuracy: 0.9498 - val_loss: 0.2667 - val_accuracy: 0.9138\n",
      "Epoch 5/6\n",
      "1688/1688 [==============================] - 166s 98ms/step - loss: 0.0945 - accuracy: 0.9639 - val_loss: 0.2780 - val_accuracy: 0.9205\n",
      "Epoch 6/6\n",
      "1688/1688 [==============================] - 165s 98ms/step - loss: 0.0670 - accuracy: 0.9761 - val_loss: 0.3462 - val_accuracy: 0.9168\n"
     ]
    },
    {
     "data": {
      "text/plain": [
       "<keras.callbacks.History at 0x1f107dc83d0>"
      ]
     },
     "execution_count": 22,
     "metadata": {},
     "output_type": "execute_result"
    }
   ],
   "source": [
    "model_bpm.fit(train_images,train_labels, epochs = 6, validation_split = 0.1, initial_epoch = 3)"
   ]
  },
  {
   "cell_type": "code",
   "execution_count": null,
   "id": "460fb58d",
   "metadata": {},
   "outputs": [],
   "source": []
  },
  {
   "cell_type": "code",
   "execution_count": null,
   "id": "71e69b73",
   "metadata": {},
   "outputs": [],
   "source": [
    "## for image augmentation\n",
    "\n",
    "# from keras.preprocessing.image import ImageDataGenerator\n",
    "\n",
    "# datagen = ImageDataGenerator(\n",
    "#         rotation_range=40,\n",
    "#         width_shift_range=0.2,\n",
    "#         height_shift_range=0.2,\n",
    "#         rescale=1./255,\n",
    "#         shear_range=0.2,\n",
    "#         zoom_range=0.2,\n",
    "#         horizontal_flip=True,\n",
    "#         fill_mode='nearest')"
   ]
  },
  {
   "cell_type": "code",
   "execution_count": null,
   "id": "9b8722bf",
   "metadata": {},
   "outputs": [],
   "source": []
  },
  {
   "cell_type": "code",
   "execution_count": null,
   "id": "4872563c",
   "metadata": {},
   "outputs": [],
   "source": []
  }
 ],
 "metadata": {
  "kernelspec": {
   "display_name": "Python 3 (ipykernel)",
   "language": "python",
   "name": "python3"
  },
  "language_info": {
   "codemirror_mode": {
    "name": "ipython",
    "version": 3
   },
   "file_extension": ".py",
   "mimetype": "text/x-python",
   "name": "python",
   "nbconvert_exporter": "python",
   "pygments_lexer": "ipython3",
   "version": "3.10.6"
  }
 },
 "nbformat": 4,
 "nbformat_minor": 5
}
